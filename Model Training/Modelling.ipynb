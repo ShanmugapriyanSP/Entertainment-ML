{
 "cells": [
  {
   "cell_type": "code",
   "execution_count": 1,
   "metadata": {
    "ExecuteTime": {
     "end_time": "2020-07-04T16:49:33.959308Z",
     "start_time": "2020-07-04T16:49:21.188759Z"
    },
    "hide_input": false
   },
   "outputs": [],
   "source": [
    "import pandas as pd\n",
    "import numpy as np\n",
    "import matplotlib.pyplot as plt\n",
    "import seaborn as sns\n",
    "from sklearn.model_selection import train_test_split\n",
    "import tensorflow as tf\n",
    "from tensorflow.keras.layers import LSTM, Embedding, Dense, Input, GlobalMaxPooling1D, BatchNormalization, Bidirectional, Dropout, SpatialDropout1D\n",
    "from tensorflow.keras.models import Model\n",
    "from tensorflow.keras.optimizers import Adam\n",
    "from tensorflow.keras.preprocessing.text import Tokenizer, one_hot\n",
    "from tensorflow.keras.preprocessing.sequence import pad_sequences\n",
    "from tensorflow.keras.regularizers import l2\n",
    "from pprint import pprint\n",
    "from numba import cuda \n",
    "import os\n",
    "os.environ['TF_CPP_MIN_LOG_LEVEL'] = '2'"
   ]
  },
  {
   "cell_type": "code",
   "execution_count": 2,
   "metadata": {
    "ExecuteTime": {
     "end_time": "2020-07-04T16:49:33.965310Z",
     "start_time": "2020-07-04T16:49:33.961315Z"
    }
   },
   "outputs": [],
   "source": [
    "def release_gpu_memory():\n",
    "    device = cuda.get_current_device()\n",
    "    device.reset()"
   ]
  },
  {
   "cell_type": "code",
   "execution_count": 3,
   "metadata": {
    "ExecuteTime": {
     "end_time": "2020-07-04T16:49:40.388311Z",
     "start_time": "2020-07-04T16:49:33.967309Z"
    }
   },
   "outputs": [
    {
     "name": "stdout",
     "output_type": "stream",
     "text": [
      "Please install GPU version of TF\n"
     ]
    }
   ],
   "source": [
    "#physical_devices = tf.config.list_physical_devices('GPU')\n",
    "#tf.config.experimental.set_memory_growth(physical_devices[0], enable=True)\n",
    "if tf.test.gpu_device_name():\n",
    "    print('Default GPU Device: {}'.format(tf.test.gpu_device_name()))\n",
    "else:\n",
    "    print(\"Please install GPU version of TF\")"
   ]
  },
  {
   "cell_type": "code",
   "execution_count": null,
   "metadata": {
    "ExecuteTime": {
     "end_time": "2020-06-21T14:25:13.942355Z",
     "start_time": "2020-06-21T14:25:13.351356Z"
    }
   },
   "outputs": [],
   "source": []
  },
  {
   "cell_type": "code",
   "execution_count": 4,
   "metadata": {
    "ExecuteTime": {
     "end_time": "2020-07-04T16:49:42.461865Z",
     "start_time": "2020-07-04T16:49:40.390310Z"
    }
   },
   "outputs": [],
   "source": [
    "df = pd.read_csv('cleaned_reviews_final.csv')"
   ]
  },
  {
   "cell_type": "code",
   "execution_count": 5,
   "metadata": {
    "ExecuteTime": {
     "end_time": "2020-07-04T16:49:42.494865Z",
     "start_time": "2020-07-04T16:49:42.463866Z"
    }
   },
   "outputs": [
    {
     "data": {
      "text/html": [
       "<div>\n",
       "<style scoped>\n",
       "    .dataframe tbody tr th:only-of-type {\n",
       "        vertical-align: middle;\n",
       "    }\n",
       "\n",
       "    .dataframe tbody tr th {\n",
       "        vertical-align: top;\n",
       "    }\n",
       "\n",
       "    .dataframe thead th {\n",
       "        text-align: right;\n",
       "    }\n",
       "</style>\n",
       "<table border=\"1\" class=\"dataframe\">\n",
       "  <thead>\n",
       "    <tr style=\"text-align: right;\">\n",
       "      <th></th>\n",
       "      <th>Unnamed: 0</th>\n",
       "      <th>review</th>\n",
       "      <th>ratings</th>\n",
       "      <th>processed_reviews</th>\n",
       "    </tr>\n",
       "  </thead>\n",
       "  <tbody>\n",
       "    <tr>\n",
       "      <th>0</th>\n",
       "      <td>0</td>\n",
       "      <td>The Shawshank Redemption is written and direct...</td>\n",
       "      <td>5.0</td>\n",
       "      <td>shawshank redempt written direct frank darabon...</td>\n",
       "    </tr>\n",
       "    <tr>\n",
       "      <th>1</th>\n",
       "      <td>1</td>\n",
       "      <td>Why do I want to write the 234th comment on Th...</td>\n",
       "      <td>10.0</td>\n",
       "      <td>want write th comment shawshank redempt sure a...</td>\n",
       "    </tr>\n",
       "    <tr>\n",
       "      <th>2</th>\n",
       "      <td>2</td>\n",
       "      <td>In its Oscar year, Shawshank Redemption (writt...</td>\n",
       "      <td>10.0</td>\n",
       "      <td>oscar year shawshank redempt written direct fr...</td>\n",
       "    </tr>\n",
       "    <tr>\n",
       "      <th>3</th>\n",
       "      <td>3</td>\n",
       "      <td>I'm trying to save you money; this is the last...</td>\n",
       "      <td>10.0</td>\n",
       "      <td>tri save money last film titl consid borrow re...</td>\n",
       "    </tr>\n",
       "    <tr>\n",
       "      <th>4</th>\n",
       "      <td>4</td>\n",
       "      <td>I have never seen such an amazing film since I...</td>\n",
       "      <td>10.0</td>\n",
       "      <td>never seen amaz film sinc saw shawshank redemp...</td>\n",
       "    </tr>\n",
       "  </tbody>\n",
       "</table>\n",
       "</div>"
      ],
      "text/plain": [
       "   Unnamed: 0                                             review  ratings  \\\n",
       "0           0  The Shawshank Redemption is written and direct...      5.0   \n",
       "1           1  Why do I want to write the 234th comment on Th...     10.0   \n",
       "2           2  In its Oscar year, Shawshank Redemption (writt...     10.0   \n",
       "3           3  I'm trying to save you money; this is the last...     10.0   \n",
       "4           4  I have never seen such an amazing film since I...     10.0   \n",
       "\n",
       "                                   processed_reviews  \n",
       "0  shawshank redempt written direct frank darabon...  \n",
       "1  want write th comment shawshank redempt sure a...  \n",
       "2  oscar year shawshank redempt written direct fr...  \n",
       "3  tri save money last film titl consid borrow re...  \n",
       "4  never seen amaz film sinc saw shawshank redemp...  "
      ]
     },
     "execution_count": 5,
     "metadata": {},
     "output_type": "execute_result"
    }
   ],
   "source": [
    "df.head()"
   ]
  },
  {
   "cell_type": "code",
   "execution_count": 6,
   "metadata": {
    "ExecuteTime": {
     "end_time": "2020-07-04T16:49:42.509869Z",
     "start_time": "2020-07-04T16:49:42.496867Z"
    }
   },
   "outputs": [],
   "source": [
    "df.drop(columns=['Unnamed: 0', 'review'], inplace=True)"
   ]
  },
  {
   "cell_type": "code",
   "execution_count": 7,
   "metadata": {
    "ExecuteTime": {
     "end_time": "2020-07-04T16:49:42.520869Z",
     "start_time": "2020-07-04T16:49:42.511876Z"
    }
   },
   "outputs": [
    {
     "data": {
      "text/plain": [
       "ratings              float64\n",
       "processed_reviews     object\n",
       "dtype: object"
      ]
     },
     "execution_count": 7,
     "metadata": {},
     "output_type": "execute_result"
    }
   ],
   "source": [
    "df.dtypes"
   ]
  },
  {
   "cell_type": "code",
   "execution_count": 8,
   "metadata": {
    "ExecuteTime": {
     "end_time": "2020-07-04T16:49:42.539866Z",
     "start_time": "2020-07-04T16:49:42.523868Z"
    },
    "scrolled": true
   },
   "outputs": [
    {
     "data": {
      "text/plain": [
       "1.0     26573\n",
       "10.0    17119\n",
       "5.0     10025\n",
       "9.0      5844\n",
       "8.0      3763\n",
       "2.0      3606\n",
       "3.0      2902\n",
       "7.0      2664\n",
       "6.0      2355\n",
       "4.0      2081\n",
       "Name: ratings, dtype: int64"
      ]
     },
     "execution_count": 8,
     "metadata": {},
     "output_type": "execute_result"
    }
   ],
   "source": [
    "df.ratings.value_counts()"
   ]
  },
  {
   "cell_type": "code",
   "execution_count": 9,
   "metadata": {
    "ExecuteTime": {
     "end_time": "2020-07-04T16:49:42.564868Z",
     "start_time": "2020-07-04T16:49:42.541867Z"
    }
   },
   "outputs": [],
   "source": [
    "df.reset_index(drop=True, inplace=True)\n",
    "from sklearn.utils import shuffle\n",
    "df = shuffle(df)"
   ]
  },
  {
   "cell_type": "code",
   "execution_count": 10,
   "metadata": {
    "ExecuteTime": {
     "end_time": "2020-07-04T16:49:42.575867Z",
     "start_time": "2020-07-04T16:49:42.566869Z"
    }
   },
   "outputs": [
    {
     "data": {
      "text/html": [
       "<div>\n",
       "<style scoped>\n",
       "    .dataframe tbody tr th:only-of-type {\n",
       "        vertical-align: middle;\n",
       "    }\n",
       "\n",
       "    .dataframe tbody tr th {\n",
       "        vertical-align: top;\n",
       "    }\n",
       "\n",
       "    .dataframe thead th {\n",
       "        text-align: right;\n",
       "    }\n",
       "</style>\n",
       "<table border=\"1\" class=\"dataframe\">\n",
       "  <thead>\n",
       "    <tr style=\"text-align: right;\">\n",
       "      <th></th>\n",
       "      <th>ratings</th>\n",
       "      <th>processed_reviews</th>\n",
       "    </tr>\n",
       "  </thead>\n",
       "  <tbody>\n",
       "    <tr>\n",
       "      <th>38701</th>\n",
       "      <td>4.0</td>\n",
       "      <td>seen lot one expect anyth watch top one one fa...</td>\n",
       "    </tr>\n",
       "    <tr>\n",
       "      <th>56349</th>\n",
       "      <td>9.0</td>\n",
       "      <td>like italian cultur lifestyl mental set era pl...</td>\n",
       "    </tr>\n",
       "    <tr>\n",
       "      <th>68338</th>\n",
       "      <td>1.0</td>\n",
       "      <td>know begin one would expect person someth stup...</td>\n",
       "    </tr>\n",
       "    <tr>\n",
       "      <th>68801</th>\n",
       "      <td>1.0</td>\n",
       "      <td>updat mid season chang vote take anymor total ...</td>\n",
       "    </tr>\n",
       "    <tr>\n",
       "      <th>30695</th>\n",
       "      <td>5.0</td>\n",
       "      <td>like kendra ever sinc saw girl next door funni...</td>\n",
       "    </tr>\n",
       "  </tbody>\n",
       "</table>\n",
       "</div>"
      ],
      "text/plain": [
       "       ratings                                  processed_reviews\n",
       "38701      4.0  seen lot one expect anyth watch top one one fa...\n",
       "56349      9.0  like italian cultur lifestyl mental set era pl...\n",
       "68338      1.0  know begin one would expect person someth stup...\n",
       "68801      1.0  updat mid season chang vote take anymor total ...\n",
       "30695      5.0  like kendra ever sinc saw girl next door funni..."
      ]
     },
     "execution_count": 10,
     "metadata": {},
     "output_type": "execute_result"
    }
   ],
   "source": [
    "df.head()"
   ]
  },
  {
   "cell_type": "code",
   "execution_count": 11,
   "metadata": {
    "ExecuteTime": {
     "end_time": "2020-07-04T16:49:42.602870Z",
     "start_time": "2020-07-04T16:49:42.577868Z"
    }
   },
   "outputs": [],
   "source": [
    "filt1 = (df['ratings'] == 2.0) | (df['ratings'] == 1.0)\n",
    "df.loc[filt1, 'ratings'] = 0.0\n",
    "\n",
    "filt2 = (df['ratings'] == 3.0) | (df['ratings'] == 4.0)\n",
    "df.loc[filt2, 'ratings'] = 1.0\n",
    "\n",
    "filt3 = (df['ratings'] == 5.0) | (df['ratings'] == 6.0)\n",
    "df.loc[filt3, 'ratings'] = 2.0\n",
    "\n",
    "filt4 = (df['ratings'] == 7.0) | (df['ratings'] == 8.0)\n",
    "df.loc[filt4, 'ratings'] = 3.0\n",
    "\n",
    "filt5 = (df['ratings'] == 9.0) | (df['ratings'] == 10.0)\n",
    "df.loc[filt5, 'ratings'] = 4.0"
   ]
  },
  {
   "cell_type": "code",
   "execution_count": 12,
   "metadata": {
    "ExecuteTime": {
     "end_time": "2020-07-04T16:49:42.612870Z",
     "start_time": "2020-07-04T16:49:42.604869Z"
    }
   },
   "outputs": [
    {
     "data": {
      "text/plain": [
       "0.0    30179\n",
       "4.0    22963\n",
       "2.0    12380\n",
       "3.0     6427\n",
       "1.0     4983\n",
       "Name: ratings, dtype: int64"
      ]
     },
     "execution_count": 12,
     "metadata": {},
     "output_type": "execute_result"
    }
   ],
   "source": [
    "df.ratings.value_counts()"
   ]
  },
  {
   "cell_type": "code",
   "execution_count": 13,
   "metadata": {
    "ExecuteTime": {
     "end_time": "2020-07-04T16:49:42.622866Z",
     "start_time": "2020-07-04T16:49:42.615867Z"
    }
   },
   "outputs": [],
   "source": [
    "df.ratings = df.ratings.astype(int)"
   ]
  },
  {
   "cell_type": "code",
   "execution_count": 14,
   "metadata": {
    "ExecuteTime": {
     "end_time": "2020-07-04T16:49:42.633866Z",
     "start_time": "2020-07-04T16:49:42.624866Z"
    }
   },
   "outputs": [
    {
     "data": {
      "text/plain": [
       "0    30179\n",
       "4    22963\n",
       "2    12380\n",
       "3     6427\n",
       "1     4983\n",
       "Name: ratings, dtype: int64"
      ]
     },
     "execution_count": 14,
     "metadata": {},
     "output_type": "execute_result"
    }
   ],
   "source": [
    "df.ratings.value_counts()"
   ]
  },
  {
   "cell_type": "code",
   "execution_count": 15,
   "metadata": {
    "ExecuteTime": {
     "end_time": "2020-07-04T16:49:42.653867Z",
     "start_time": "2020-07-04T16:49:42.635869Z"
    }
   },
   "outputs": [
    {
     "data": {
      "text/plain": [
       "ratings              0\n",
       "processed_reviews    6\n",
       "dtype: int64"
      ]
     },
     "execution_count": 15,
     "metadata": {},
     "output_type": "execute_result"
    }
   ],
   "source": [
    "df.isnull().sum()"
   ]
  },
  {
   "cell_type": "code",
   "execution_count": 16,
   "metadata": {
    "ExecuteTime": {
     "end_time": "2020-07-04T16:49:42.689868Z",
     "start_time": "2020-07-04T16:49:42.655871Z"
    }
   },
   "outputs": [],
   "source": [
    "df.dropna(subset = ['processed_reviews'], inplace=True)"
   ]
  },
  {
   "cell_type": "code",
   "execution_count": 17,
   "metadata": {
    "ExecuteTime": {
     "end_time": "2020-07-04T16:49:42.709866Z",
     "start_time": "2020-07-04T16:49:42.691868Z"
    }
   },
   "outputs": [
    {
     "data": {
      "text/plain": [
       "ratings              0\n",
       "processed_reviews    0\n",
       "dtype: int64"
      ]
     },
     "execution_count": 17,
     "metadata": {},
     "output_type": "execute_result"
    }
   ],
   "source": [
    "df.isnull().sum()"
   ]
  },
  {
   "cell_type": "code",
   "execution_count": 18,
   "metadata": {
    "ExecuteTime": {
     "end_time": "2020-07-04T16:49:42.731868Z",
     "start_time": "2020-07-04T16:49:42.711866Z"
    }
   },
   "outputs": [],
   "source": [
    "X = df['processed_reviews'].astype(str)\n",
    "y = df['ratings']"
   ]
  },
  {
   "cell_type": "code",
   "execution_count": 19,
   "metadata": {
    "ExecuteTime": {
     "end_time": "2020-07-04T16:49:42.753867Z",
     "start_time": "2020-07-04T16:49:42.733866Z"
    }
   },
   "outputs": [],
   "source": [
    "X_train, X_test, y_train, y_test = train_test_split(X, y, test_size=0.2)"
   ]
  },
  {
   "cell_type": "code",
   "execution_count": 20,
   "metadata": {
    "ExecuteTime": {
     "end_time": "2020-07-04T16:49:42.759865Z",
     "start_time": "2020-07-04T16:49:42.755868Z"
    }
   },
   "outputs": [],
   "source": [
    "MAX_VOCAB_SIZE = 20000\n",
    "tokenizer = Tokenizer(num_words=MAX_VOCAB_SIZE)"
   ]
  },
  {
   "cell_type": "code",
   "execution_count": 21,
   "metadata": {
    "ExecuteTime": {
     "end_time": "2020-07-04T16:49:53.468939Z",
     "start_time": "2020-07-04T16:49:42.760866Z"
    }
   },
   "outputs": [],
   "source": [
    "tokenizer.fit_on_texts(X_train)\n",
    "seq_train = tokenizer.texts_to_sequences(X_train)\n",
    "seq_test = tokenizer.texts_to_sequences(X_test)"
   ]
  },
  {
   "cell_type": "code",
   "execution_count": 22,
   "metadata": {
    "ExecuteTime": {
     "end_time": "2020-07-04T16:49:53.473941Z",
     "start_time": "2020-07-04T16:49:53.469940Z"
    }
   },
   "outputs": [
    {
     "name": "stdout",
     "output_type": "stream",
     "text": [
      "Unique tokens -  52375\n"
     ]
    }
   ],
   "source": [
    "word_to_int = tokenizer.word_index\n",
    "V = len(word_to_int)\n",
    "print('Unique tokens - ',V)"
   ]
  },
  {
   "cell_type": "code",
   "execution_count": 23,
   "metadata": {
    "ExecuteTime": {
     "end_time": "2020-07-04T16:49:54.351953Z",
     "start_time": "2020-07-04T16:49:53.478940Z"
    }
   },
   "outputs": [
    {
     "name": "stdout",
     "output_type": "stream",
     "text": [
      "Shape -  (61540, 921)\n"
     ]
    }
   ],
   "source": [
    "data_train = pad_sequences(seq_train)\n",
    "\n",
    "print('Shape - ',data_train.shape)\n",
    "\n",
    "T = data_train.shape[1]"
   ]
  },
  {
   "cell_type": "code",
   "execution_count": 24,
   "metadata": {
    "ExecuteTime": {
     "end_time": "2020-07-04T16:49:54.574953Z",
     "start_time": "2020-07-04T16:49:54.353941Z"
    }
   },
   "outputs": [
    {
     "name": "stdout",
     "output_type": "stream",
     "text": [
      "Test shape -  (15386, 921)\n"
     ]
    }
   ],
   "source": [
    "data_test = pad_sequences(seq_test, maxlen=T)\n",
    "print('Test shape - ', data_test.shape)"
   ]
  },
  {
   "cell_type": "code",
   "execution_count": 25,
   "metadata": {
    "ExecuteTime": {
     "end_time": "2020-07-04T16:49:54.580942Z",
     "start_time": "2020-07-04T16:49:54.576942Z"
    },
    "hide_input": false
   },
   "outputs": [],
   "source": [
    "data_train = np.asarray(data_train)\n",
    "y_train = np.asarray(y_train)\n",
    "data_test = np.asarray(data_test)\n",
    "y_test = np.asarray(y_test)"
   ]
  },
  {
   "cell_type": "code",
   "execution_count": 26,
   "metadata": {
    "ExecuteTime": {
     "end_time": "2020-07-04T16:49:54.589946Z",
     "start_time": "2020-07-04T16:49:54.582942Z"
    }
   },
   "outputs": [
    {
     "data": {
      "text/plain": [
       "array([3, 1, 2, ..., 0, 0, 4])"
      ]
     },
     "execution_count": 26,
     "metadata": {},
     "output_type": "execute_result"
    }
   ],
   "source": [
    "y_train"
   ]
  },
  {
   "cell_type": "code",
   "execution_count": 27,
   "metadata": {
    "ExecuteTime": {
     "end_time": "2020-07-04T16:49:55.277510Z",
     "start_time": "2020-07-04T16:49:54.591946Z"
    }
   },
   "outputs": [],
   "source": [
    "#Embedding dimensionality\n",
    "D = 40\n",
    "# Hidden states\n",
    "M = 30\n",
    "\n",
    "i = Input(shape=(T,))\n",
    "x = Embedding(V+1, D)(i)\n",
    "x = SpatialDropout1D(0.7)(x)\n",
    "# x = LSTM(M, dropout=0.4, recurrent_dropout=0.4)(x)\n",
    "x = LSTM(M)(x)\n",
    "# x = Bidirectional(LSTM(M))(x)\n",
    "x = BatchNormalization()(x)\n",
    "# x = GlobalMaxPooling1D()(x)\n",
    "x = Dense(60, activation='relu')(x)\n",
    "x = Dropout(0.5)(x)\n",
    "x = Dense(5, activation='softmax')(x)\n",
    "\n",
    "model = Model(i, x)"
   ]
  },
  {
   "cell_type": "code",
   "execution_count": 28,
   "metadata": {
    "ExecuteTime": {
     "end_time": "2020-07-04T18:54:15.214539Z",
     "start_time": "2020-07-04T16:49:55.279513Z"
    },
    "scrolled": true
   },
   "outputs": [
    {
     "name": "stdout",
     "output_type": "stream",
     "text": [
      "Epoch 1/50\n",
      "1924/1924 [==============================] - 148s 77ms/step - loss: 1.2186 - accuracy: 0.5573 - val_loss: 1.0660 - val_accuracy: 0.6229\n",
      "Epoch 2/50\n",
      "1924/1924 [==============================] - 147s 76ms/step - loss: 1.0749 - accuracy: 0.6211 - val_loss: 1.0045 - val_accuracy: 0.6387\n",
      "Epoch 3/50\n",
      "1924/1924 [==============================] - 148s 77ms/step - loss: 1.0164 - accuracy: 0.6369 - val_loss: 0.9915 - val_accuracy: 0.6500\n",
      "Epoch 4/50\n",
      "1924/1924 [==============================] - 148s 77ms/step - loss: 0.9752 - accuracy: 0.6484 - val_loss: 0.9683 - val_accuracy: 0.6556\n",
      "Epoch 5/50\n",
      "1924/1924 [==============================] - 147s 77ms/step - loss: 0.9445 - accuracy: 0.6588 - val_loss: 0.9621 - val_accuracy: 0.6570\n",
      "Epoch 6/50\n",
      "1924/1924 [==============================] - 147s 76ms/step - loss: 0.9176 - accuracy: 0.6695 - val_loss: 0.9519 - val_accuracy: 0.6605\n",
      "Epoch 7/50\n",
      "1924/1924 [==============================] - 150s 78ms/step - loss: 0.8931 - accuracy: 0.6770 - val_loss: 0.9614 - val_accuracy: 0.6641\n",
      "Epoch 8/50\n",
      "1924/1924 [==============================] - 151s 78ms/step - loss: 0.8714 - accuracy: 0.6841 - val_loss: 0.9479 - val_accuracy: 0.6687\n",
      "Epoch 9/50\n",
      "1924/1924 [==============================] - 151s 78ms/step - loss: 0.8512 - accuracy: 0.6916 - val_loss: 0.9408 - val_accuracy: 0.6720\n",
      "Epoch 10/50\n",
      "1924/1924 [==============================] - 151s 78ms/step - loss: 0.8365 - accuracy: 0.6982 - val_loss: 0.9462 - val_accuracy: 0.6772\n",
      "Epoch 11/50\n",
      "1924/1924 [==============================] - 146s 76ms/step - loss: 0.8184 - accuracy: 0.7044 - val_loss: 0.9526 - val_accuracy: 0.6755\n",
      "Epoch 12/50\n",
      "1924/1924 [==============================] - 148s 77ms/step - loss: 0.8028 - accuracy: 0.7101 - val_loss: 0.9349 - val_accuracy: 0.6755\n",
      "Epoch 13/50\n",
      "1924/1924 [==============================] - 148s 77ms/step - loss: 0.7855 - accuracy: 0.7153 - val_loss: 0.9401 - val_accuracy: 0.6780\n",
      "Epoch 14/50\n",
      "1924/1924 [==============================] - 148s 77ms/step - loss: 0.7720 - accuracy: 0.7213 - val_loss: 0.9207 - val_accuracy: 0.6852\n",
      "Epoch 15/50\n",
      "1924/1924 [==============================] - 148s 77ms/step - loss: 0.7626 - accuracy: 0.7262 - val_loss: 0.9111 - val_accuracy: 0.6822\n",
      "Epoch 16/50\n",
      "1924/1924 [==============================] - 149s 77ms/step - loss: 0.7437 - accuracy: 0.7312 - val_loss: 0.9162 - val_accuracy: 0.6887\n",
      "Epoch 17/50\n",
      "1924/1924 [==============================] - 150s 78ms/step - loss: 0.7365 - accuracy: 0.7366 - val_loss: 0.9145 - val_accuracy: 0.6954\n",
      "Epoch 18/50\n",
      "1924/1924 [==============================] - 148s 77ms/step - loss: 0.7214 - accuracy: 0.7440 - val_loss: 0.9082 - val_accuracy: 0.6932\n",
      "Epoch 19/50\n",
      "1924/1924 [==============================] - 147s 76ms/step - loss: 0.7141 - accuracy: 0.7461 - val_loss: 0.9359 - val_accuracy: 0.6952\n",
      "Epoch 20/50\n",
      "1924/1924 [==============================] - 148s 77ms/step - loss: 0.7033 - accuracy: 0.7504 - val_loss: 0.9199 - val_accuracy: 0.6999\n",
      "Epoch 21/50\n",
      "1924/1924 [==============================] - 148s 77ms/step - loss: 0.6940 - accuracy: 0.7564 - val_loss: 0.9161 - val_accuracy: 0.7011\n",
      "Epoch 22/50\n",
      "1924/1924 [==============================] - 147s 76ms/step - loss: 0.6866 - accuracy: 0.7581 - val_loss: 0.9340 - val_accuracy: 0.7002\n",
      "Epoch 23/50\n",
      "1924/1924 [==============================] - 149s 77ms/step - loss: 0.6800 - accuracy: 0.7616 - val_loss: 0.8931 - val_accuracy: 0.7074\n",
      "Epoch 24/50\n",
      "1924/1924 [==============================] - 147s 77ms/step - loss: 0.6636 - accuracy: 0.7670 - val_loss: 0.9264 - val_accuracy: 0.7048\n",
      "Epoch 25/50\n",
      "1924/1924 [==============================] - 147s 76ms/step - loss: 0.6612 - accuracy: 0.7696 - val_loss: 0.8813 - val_accuracy: 0.7131\n",
      "Epoch 26/50\n",
      "1924/1924 [==============================] - 146s 76ms/step - loss: 0.6478 - accuracy: 0.7752 - val_loss: 0.9283 - val_accuracy: 0.7088\n",
      "Epoch 27/50\n",
      "1924/1924 [==============================] - 146s 76ms/step - loss: 0.6458 - accuracy: 0.7772 - val_loss: 0.9072 - val_accuracy: 0.7112\n",
      "Epoch 28/50\n",
      "1924/1924 [==============================] - 146s 76ms/step - loss: 0.6381 - accuracy: 0.7790 - val_loss: 0.8929 - val_accuracy: 0.7156\n",
      "Epoch 29/50\n",
      "1924/1924 [==============================] - 146s 76ms/step - loss: 0.6305 - accuracy: 0.7805 - val_loss: 0.8983 - val_accuracy: 0.7174\n",
      "Epoch 30/50\n",
      "1924/1924 [==============================] - 144s 75ms/step - loss: 0.6186 - accuracy: 0.7864 - val_loss: 0.9116 - val_accuracy: 0.7130\n",
      "Epoch 31/50\n",
      "1924/1924 [==============================] - 145s 75ms/step - loss: 0.6141 - accuracy: 0.7893 - val_loss: 0.8974 - val_accuracy: 0.7160\n",
      "Epoch 32/50\n",
      "1924/1924 [==============================] - 149s 77ms/step - loss: 0.6101 - accuracy: 0.7916 - val_loss: 0.8861 - val_accuracy: 0.7234\n",
      "Epoch 33/50\n",
      "1924/1924 [==============================] - 143s 74ms/step - loss: 0.6044 - accuracy: 0.7935 - val_loss: 0.9029 - val_accuracy: 0.7214\n",
      "Epoch 34/50\n",
      "1924/1924 [==============================] - 146s 76ms/step - loss: 0.5959 - accuracy: 0.7952 - val_loss: 0.8888 - val_accuracy: 0.7279\n",
      "Epoch 35/50\n",
      "1924/1924 [==============================] - 156s 81ms/step - loss: 0.5892 - accuracy: 0.7982 - val_loss: 0.9568 - val_accuracy: 0.7153\n",
      "Epoch 36/50\n",
      "1924/1924 [==============================] - 153s 80ms/step - loss: 0.5821 - accuracy: 0.8008 - val_loss: 0.8980 - val_accuracy: 0.7255\n",
      "Epoch 37/50\n",
      "1924/1924 [==============================] - 155s 80ms/step - loss: 0.5845 - accuracy: 0.8002 - val_loss: 0.8899 - val_accuracy: 0.7294\n",
      "Epoch 38/50\n",
      "1924/1924 [==============================] - 151s 78ms/step - loss: 0.5807 - accuracy: 0.8030 - val_loss: 0.9024 - val_accuracy: 0.7292\n",
      "Epoch 39/50\n",
      "1924/1924 [==============================] - 149s 78ms/step - loss: 0.5705 - accuracy: 0.8062 - val_loss: 0.9085 - val_accuracy: 0.7296\n",
      "Epoch 40/50\n",
      "1924/1924 [==============================] - 153s 79ms/step - loss: 0.5664 - accuracy: 0.8070 - val_loss: 0.9218 - val_accuracy: 0.7290\n",
      "Epoch 41/50\n",
      "1924/1924 [==============================] - 151s 79ms/step - loss: 0.5667 - accuracy: 0.8062 - val_loss: 0.9369 - val_accuracy: 0.7272\n",
      "Epoch 42/50\n",
      "1924/1924 [==============================] - 152s 79ms/step - loss: 0.5572 - accuracy: 0.8108 - val_loss: 0.8989 - val_accuracy: 0.7370\n",
      "Epoch 43/50\n",
      "1924/1924 [==============================] - 152s 79ms/step - loss: 0.5527 - accuracy: 0.8125 - val_loss: 0.9195 - val_accuracy: 0.7293\n",
      "Epoch 44/50\n",
      "1924/1924 [==============================] - 150s 78ms/step - loss: 0.5484 - accuracy: 0.8136 - val_loss: 0.8994 - val_accuracy: 0.7366\n",
      "Epoch 45/50\n",
      "1924/1924 [==============================] - 151s 78ms/step - loss: 0.5490 - accuracy: 0.8135 - val_loss: 0.8834 - val_accuracy: 0.7379\n",
      "Epoch 46/50\n",
      "1924/1924 [==============================] - 152s 79ms/step - loss: 0.5407 - accuracy: 0.8164 - val_loss: 0.9078 - val_accuracy: 0.7390\n",
      "Epoch 47/50\n",
      "1924/1924 [==============================] - 152s 79ms/step - loss: 0.5314 - accuracy: 0.8178 - val_loss: 0.9346 - val_accuracy: 0.7347\n",
      "Epoch 48/50\n",
      "1924/1924 [==============================] - 153s 80ms/step - loss: 0.5336 - accuracy: 0.8204 - val_loss: 0.9677 - val_accuracy: 0.7279\n",
      "Epoch 49/50\n",
      "1924/1924 [==============================] - 150s 78ms/step - loss: 0.5349 - accuracy: 0.8176 - val_loss: 0.9152 - val_accuracy: 0.7382\n",
      "Epoch 50/50\n",
      "1924/1924 [==============================] - 155s 80ms/step - loss: 0.5253 - accuracy: 0.8227 - val_loss: 0.9041 - val_accuracy: 0.7384\n"
     ]
    }
   ],
   "source": [
    "model.compile(optimizer=Adam(learning_rate=0.001),\n",
    "              loss='sparse_categorical_crossentropy', metrics=['accuracy'])\n",
    "\n",
    "c = model.fit(data_train, y_train, validation_data=(data_test, y_test), epochs=50)"
   ]
  },
  {
   "cell_type": "code",
   "execution_count": 29,
   "metadata": {
    "ExecuteTime": {
     "end_time": "2020-07-04T18:54:15.440810Z",
     "start_time": "2020-07-04T18:54:15.290774Z"
    }
   },
   "outputs": [
    {
     "name": "stdout",
     "output_type": "stream",
     "text": [
      "Model: \"model\"\n",
      "_________________________________________________________________\n",
      "Layer (type)                 Output Shape              Param #   \n",
      "=================================================================\n",
      "input_1 (InputLayer)         [(None, 921)]             0         \n",
      "_________________________________________________________________\n",
      "embedding (Embedding)        (None, 921, 40)           2095040   \n",
      "_________________________________________________________________\n",
      "spatial_dropout1d (SpatialDr (None, 921, 40)           0         \n",
      "_________________________________________________________________\n",
      "lstm (LSTM)                  (None, 30)                8520      \n",
      "_________________________________________________________________\n",
      "batch_normalization (BatchNo (None, 30)                120       \n",
      "_________________________________________________________________\n",
      "dense (Dense)                (None, 60)                1860      \n",
      "_________________________________________________________________\n",
      "dropout (Dropout)            (None, 60)                0         \n",
      "_________________________________________________________________\n",
      "dense_1 (Dense)              (None, 5)                 305       \n",
      "=================================================================\n",
      "Total params: 2,105,845\n",
      "Trainable params: 2,105,785\n",
      "Non-trainable params: 60\n",
      "_________________________________________________________________\n"
     ]
    }
   ],
   "source": [
    "model.summary()"
   ]
  },
  {
   "cell_type": "code",
   "execution_count": 30,
   "metadata": {
    "ExecuteTime": {
     "end_time": "2020-07-04T18:54:15.474819Z",
     "start_time": "2020-07-04T18:54:15.446820Z"
    }
   },
   "outputs": [],
   "source": [
    "def plot(c, param, val_param):\n",
    "    plt.plot(c.history[param], label=param)\n",
    "    plt.plot(c.history[val_param], label=val_param)\n",
    "    plt.legend()"
   ]
  },
  {
   "cell_type": "code",
   "execution_count": 31,
   "metadata": {
    "ExecuteTime": {
     "end_time": "2020-07-04T18:54:16.826572Z",
     "start_time": "2020-07-04T18:54:15.478806Z"
    }
   },
   "outputs": [
    {
     "data": {
      "image/png": "[encoded data removed]",
      "text/plain": [
       "<Figure size 432x288 with 1 Axes>"
      ]
     },
     "metadata": {
      "needs_background": "light"
     },
     "output_type": "display_data"
    }
   ],
   "source": [
    "plot(c, 'loss', 'val_loss')"
   ]
  },
  {
   "cell_type": "code",
   "execution_count": 32,
   "metadata": {
    "ExecuteTime": {
     "end_time": "2020-07-04T18:54:16.992560Z",
     "start_time": "2020-07-04T18:54:16.830573Z"
    }
   },
   "outputs": [
    {
     "data": {
      "image/png": "[encoded data removed]",
      "text/plain": [
       "<Figure size 432x288 with 1 Axes>"
      ]
     },
     "metadata": {
      "needs_background": "light"
     },
     "output_type": "display_data"
    }
   ],
   "source": [
    "plot(c, 'accuracy', 'val_accuracy')"
   ]
  },
  {
   "cell_type": "code",
   "execution_count": 33,
   "metadata": {
    "ExecuteTime": {
     "end_time": "2020-07-04T18:54:17.696572Z",
     "start_time": "2020-07-04T18:54:16.995560Z"
    }
   },
   "outputs": [],
   "source": [
    "model.save('model_LSTM1.h5')"
   ]
  },
  {
   "cell_type": "code",
   "execution_count": 34,
   "metadata": {
    "ExecuteTime": {
     "end_time": "2020-07-04T18:54:17.902610Z",
     "start_time": "2020-07-04T18:54:17.698561Z"
    }
   },
   "outputs": [],
   "source": [
    "import pickle\n",
    "pickle.dump(tokenizer, open('tokenizer.pkl', 'wb'))"
   ]
  },
  {
   "cell_type": "code",
   "execution_count": 35,
   "metadata": {
    "ExecuteTime": {
     "end_time": "2020-07-04T18:54:26.215429Z",
     "start_time": "2020-07-04T18:54:17.904614Z"
    }
   },
   "outputs": [],
   "source": [
    "release_gpu_memory()"
   ]
  },
  {
   "cell_type": "code",
   "execution_count": null,
   "metadata": {},
   "outputs": [],
   "source": []
  }
 ],
 "metadata": {
  "gist": {
   "data": {
    "description": "Movie Review Analysis/Modelling.ipynb",
    "public": true
   },
   "id": ""
  },
  "kernelspec": {
   "display_name": "Python 3",
   "language": "python",
   "name": "python3"
  },
  "language_info": {
   "codemirror_mode": {
    "name": "ipython",
    "version": 3
   },
   "file_extension": ".py",
   "mimetype": "text/x-python",
   "name": "python",
   "nbconvert_exporter": "python",
   "pygments_lexer": "ipython3",
   "version": "3.6.10"
  },
  "toc": {
   "base_numbering": 1,
   "nav_menu": {},
   "number_sections": true,
   "sideBar": true,
   "skip_h1_title": false,
   "title_cell": "Table of Contents",
   "title_sidebar": "Contents",
   "toc_cell": false,
   "toc_position": {},
   "toc_section_display": true,
   "toc_window_display": false
  },
  "varInspector": {
   "cols": {
    "lenName": 16,
    "lenType": 16,
    "lenVar": 40
   },
   "kernels_config": {
    "python": {
     "delete_cmd_postfix": "",
     "delete_cmd_prefix": "del ",
     "library": "var_list.py",
     "varRefreshCmd": "print(var_dic_list())"
    },
    "r": {
     "delete_cmd_postfix": ") ",
     "delete_cmd_prefix": "rm(",
     "library": "var_list.r",
     "varRefreshCmd": "cat(var_dic_list()) "
    }
   },
   "position": {
    "height": "596.4px",
    "left": "1288px",
    "right": "20px",
    "top": "120px",
    "width": "214.4px"
   },
   "types_to_exclude": [
    "module",
    "function",
    "builtin_function_or_method",
    "instance",
    "_Feature"
   ],
   "window_display": false
  }
 },
 "nbformat": 4,
 "nbformat_minor": 4
}
