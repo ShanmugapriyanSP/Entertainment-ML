{
 "cells": [
  {
   "cell_type": "code",
   "execution_count": 1,
   "metadata": {
    "ExecuteTime": {
     "end_time": "2020-07-18T18:16:30.122953Z",
     "start_time": "2020-07-18T18:16:25.855978Z"
    }
   },
   "outputs": [],
   "source": [
    "import pandas as pd\n",
    "import numpy as np\n",
    "import matplotlib.pyplot as plt\n",
    "import seaborn as sns\n",
    "from sklearn.model_selection import train_test_split\n",
    "import tensorflow as tf\n",
    "import pandas as pd\n",
    "import numpy as np\n",
    "import matplotlib.pyplot as plt\n",
    "import seaborn as sns\n",
    "from sklearn.model_selection import train_test_split\n",
    "import tensorflow as tf\n",
    "from tensorflow.keras.layers import LSTM, Embedding, Dense, Input, GlobalMaxPooling1D, BatchNormalization, Bidirectional, Dropout, SpatialDropout1D\n",
    "from tensorflow.keras.models import Model\n",
    "from tensorflow.keras.optimizers import Adam\n",
    "from tensorflow.keras.preprocessing.text import Tokenizer, one_hot\n",
    "from tensorflow.keras.preprocessing.sequence import pad_sequences\n",
    "from tensorflow.keras.regularizers import l2\n",
    "from pprint import pprint\n",
    "from numba import cuda \n",
    "import os\n",
    "os.environ['TF_CPP_MIN_LOG_LEVEL'] = '2'"
   ]
  },
  {
   "cell_type": "code",
   "execution_count": 2,
   "metadata": {
    "ExecuteTime": {
     "end_time": "2020-07-18T18:18:36.528925Z",
     "start_time": "2020-07-18T18:16:30.125955Z"
    }
   },
   "outputs": [
    {
     "name": "stdout",
     "output_type": "stream",
     "text": [
      "Default GPU Device: /device:GPU:0\n"
     ]
    }
   ],
   "source": [
    "# physical_devices = tf.config.list_physical_devices('GPU')\n",
    "# tf.config.experimental.set_memory_growth(physical_devices[0], enable=True)\n",
    "if tf.test.gpu_device_name():\n",
    "    print('Default GPU Device: {}'.format(tf.test.gpu_device_name()))\n",
    "else:\n",
    "    print(\"Please install GPU version of TF\")"
   ]
  },
  {
   "cell_type": "code",
   "execution_count": 3,
   "metadata": {
    "ExecuteTime": {
     "end_time": "2020-07-18T18:18:38.450235Z",
     "start_time": "2020-07-18T18:18:36.532922Z"
    }
   },
   "outputs": [],
   "source": [
    "df = pd.read_csv('cleaned_reviews_final.csv')"
   ]
  },
  {
   "cell_type": "code",
   "execution_count": 4,
   "metadata": {
    "ExecuteTime": {
     "end_time": "2020-07-18T18:18:38.497956Z",
     "start_time": "2020-07-18T18:18:38.452223Z"
    }
   },
   "outputs": [
    {
     "data": {
      "text/html": [
       "<div>\n",
       "<style scoped>\n",
       "    .dataframe tbody tr th:only-of-type {\n",
       "        vertical-align: middle;\n",
       "    }\n",
       "\n",
       "    .dataframe tbody tr th {\n",
       "        vertical-align: top;\n",
       "    }\n",
       "\n",
       "    .dataframe thead th {\n",
       "        text-align: right;\n",
       "    }\n",
       "</style>\n",
       "<table border=\"1\" class=\"dataframe\">\n",
       "  <thead>\n",
       "    <tr style=\"text-align: right;\">\n",
       "      <th></th>\n",
       "      <th>Unnamed: 0</th>\n",
       "      <th>review</th>\n",
       "      <th>ratings</th>\n",
       "      <th>processed_reviews</th>\n",
       "    </tr>\n",
       "  </thead>\n",
       "  <tbody>\n",
       "    <tr>\n",
       "      <th>0</th>\n",
       "      <td>0</td>\n",
       "      <td>The Shawshank Redemption is written and direct...</td>\n",
       "      <td>5.0</td>\n",
       "      <td>shawshank redempt written direct frank darabon...</td>\n",
       "    </tr>\n",
       "    <tr>\n",
       "      <th>1</th>\n",
       "      <td>1</td>\n",
       "      <td>Why do I want to write the 234th comment on Th...</td>\n",
       "      <td>10.0</td>\n",
       "      <td>want write th comment shawshank redempt sure a...</td>\n",
       "    </tr>\n",
       "    <tr>\n",
       "      <th>2</th>\n",
       "      <td>2</td>\n",
       "      <td>In its Oscar year, Shawshank Redemption (writt...</td>\n",
       "      <td>10.0</td>\n",
       "      <td>oscar year shawshank redempt written direct fr...</td>\n",
       "    </tr>\n",
       "    <tr>\n",
       "      <th>3</th>\n",
       "      <td>3</td>\n",
       "      <td>I'm trying to save you money; this is the last...</td>\n",
       "      <td>10.0</td>\n",
       "      <td>tri save money last film titl consid borrow re...</td>\n",
       "    </tr>\n",
       "    <tr>\n",
       "      <th>4</th>\n",
       "      <td>4</td>\n",
       "      <td>I have never seen such an amazing film since I...</td>\n",
       "      <td>10.0</td>\n",
       "      <td>never seen amaz film sinc saw shawshank redemp...</td>\n",
       "    </tr>\n",
       "  </tbody>\n",
       "</table>\n",
       "</div>"
      ],
      "text/plain": [
       "   Unnamed: 0                                             review  ratings  \\\n",
       "0           0  The Shawshank Redemption is written and direct...      5.0   \n",
       "1           1  Why do I want to write the 234th comment on Th...     10.0   \n",
       "2           2  In its Oscar year, Shawshank Redemption (writt...     10.0   \n",
       "3           3  I'm trying to save you money; this is the last...     10.0   \n",
       "4           4  I have never seen such an amazing film since I...     10.0   \n",
       "\n",
       "                                   processed_reviews  \n",
       "0  shawshank redempt written direct frank darabon...  \n",
       "1  want write th comment shawshank redempt sure a...  \n",
       "2  oscar year shawshank redempt written direct fr...  \n",
       "3  tri save money last film titl consid borrow re...  \n",
       "4  never seen amaz film sinc saw shawshank redemp...  "
      ]
     },
     "execution_count": 4,
     "metadata": {},
     "output_type": "execute_result"
    }
   ],
   "source": [
    "df.head()"
   ]
  },
  {
   "cell_type": "code",
   "execution_count": 5,
   "metadata": {
    "ExecuteTime": {
     "end_time": "2020-07-18T18:18:38.513959Z",
     "start_time": "2020-07-18T18:18:38.499959Z"
    }
   },
   "outputs": [],
   "source": [
    "df.drop(columns=['Unnamed: 0', 'review'], inplace=True)"
   ]
  },
  {
   "cell_type": "code",
   "execution_count": 6,
   "metadata": {
    "ExecuteTime": {
     "end_time": "2020-07-18T18:18:38.529958Z",
     "start_time": "2020-07-18T18:18:38.515959Z"
    }
   },
   "outputs": [
    {
     "data": {
      "text/plain": [
       "ratings              float64\n",
       "processed_reviews     object\n",
       "dtype: object"
      ]
     },
     "execution_count": 6,
     "metadata": {},
     "output_type": "execute_result"
    }
   ],
   "source": [
    "df.dtypes"
   ]
  },
  {
   "cell_type": "code",
   "execution_count": 7,
   "metadata": {
    "ExecuteTime": {
     "end_time": "2020-07-18T18:18:38.545970Z",
     "start_time": "2020-07-18T18:18:38.532957Z"
    },
    "scrolled": true
   },
   "outputs": [
    {
     "data": {
      "text/plain": [
       "1.0     26573\n",
       "10.0    17119\n",
       "5.0     10025\n",
       "9.0      5844\n",
       "8.0      3763\n",
       "2.0      3606\n",
       "3.0      2902\n",
       "7.0      2664\n",
       "6.0      2355\n",
       "4.0      2081\n",
       "Name: ratings, dtype: int64"
      ]
     },
     "execution_count": 7,
     "metadata": {},
     "output_type": "execute_result"
    }
   ],
   "source": [
    "df.ratings.value_counts()"
   ]
  },
  {
   "cell_type": "code",
   "execution_count": 8,
   "metadata": {
    "ExecuteTime": {
     "end_time": "2020-07-18T18:18:38.577960Z",
     "start_time": "2020-07-18T18:18:38.548958Z"
    }
   },
   "outputs": [],
   "source": [
    "df.reset_index(drop=True, inplace=True)\n",
    "from sklearn.utils import shuffle\n",
    "df = shuffle(df)"
   ]
  },
  {
   "cell_type": "code",
   "execution_count": 9,
   "metadata": {
    "ExecuteTime": {
     "end_time": "2020-07-18T18:18:38.593959Z",
     "start_time": "2020-07-18T18:18:38.580971Z"
    }
   },
   "outputs": [
    {
     "data": {
      "text/html": [
       "<div>\n",
       "<style scoped>\n",
       "    .dataframe tbody tr th:only-of-type {\n",
       "        vertical-align: middle;\n",
       "    }\n",
       "\n",
       "    .dataframe tbody tr th {\n",
       "        vertical-align: top;\n",
       "    }\n",
       "\n",
       "    .dataframe thead th {\n",
       "        text-align: right;\n",
       "    }\n",
       "</style>\n",
       "<table border=\"1\" class=\"dataframe\">\n",
       "  <thead>\n",
       "    <tr style=\"text-align: right;\">\n",
       "      <th></th>\n",
       "      <th>ratings</th>\n",
       "      <th>processed_reviews</th>\n",
       "    </tr>\n",
       "  </thead>\n",
       "  <tbody>\n",
       "    <tr>\n",
       "      <th>55618</th>\n",
       "      <td>4.0</td>\n",
       "      <td>know mani like like kind stuff saw first ep fu...</td>\n",
       "    </tr>\n",
       "    <tr>\n",
       "      <th>67530</th>\n",
       "      <td>1.0</td>\n",
       "      <td>serious gordon drag know death yet wake yell g...</td>\n",
       "    </tr>\n",
       "    <tr>\n",
       "      <th>21398</th>\n",
       "      <td>9.0</td>\n",
       "      <td>tenaci better great song absurd humor deliv st...</td>\n",
       "    </tr>\n",
       "    <tr>\n",
       "      <th>32175</th>\n",
       "      <td>3.0</td>\n",
       "      <td>tri like show suppos five women live coto de c...</td>\n",
       "    </tr>\n",
       "    <tr>\n",
       "      <th>64112</th>\n",
       "      <td>5.0</td>\n",
       "      <td>watch show eddi cibrian join like around see e...</td>\n",
       "    </tr>\n",
       "  </tbody>\n",
       "</table>\n",
       "</div>"
      ],
      "text/plain": [
       "       ratings                                  processed_reviews\n",
       "55618      4.0  know mani like like kind stuff saw first ep fu...\n",
       "67530      1.0  serious gordon drag know death yet wake yell g...\n",
       "21398      9.0  tenaci better great song absurd humor deliv st...\n",
       "32175      3.0  tri like show suppos five women live coto de c...\n",
       "64112      5.0  watch show eddi cibrian join like around see e..."
      ]
     },
     "execution_count": 9,
     "metadata": {},
     "output_type": "execute_result"
    }
   ],
   "source": [
    "df.head()"
   ]
  },
  {
   "cell_type": "code",
   "execution_count": 10,
   "metadata": {
    "ExecuteTime": {
     "end_time": "2020-07-18T18:18:38.625957Z",
     "start_time": "2020-07-18T18:18:38.595958Z"
    }
   },
   "outputs": [],
   "source": [
    "filt1 = (df['ratings'] == 2.0) | (df['ratings'] == 1.0)\n",
    "df.loc[filt1, 'ratings'] = 0.0\n",
    "\n",
    "filt2 = (df['ratings'] == 3.0) | (df['ratings'] == 4.0)\n",
    "df.loc[filt2, 'ratings'] = 1.0\n",
    "\n",
    "filt3 = (df['ratings'] == 5.0) | (df['ratings'] == 6.0)\n",
    "df.loc[filt3, 'ratings'] = 2.0\n",
    "\n",
    "filt4 = (df['ratings'] == 7.0) | (df['ratings'] == 8.0)\n",
    "df.loc[filt4, 'ratings'] = 3.0\n",
    "\n",
    "filt5 = (df['ratings'] == 9.0) | (df['ratings'] == 10.0)\n",
    "df.loc[filt5, 'ratings'] = 4.0"
   ]
  },
  {
   "cell_type": "code",
   "execution_count": 11,
   "metadata": {
    "ExecuteTime": {
     "end_time": "2020-07-18T18:18:38.641958Z",
     "start_time": "2020-07-18T18:18:38.628957Z"
    }
   },
   "outputs": [
    {
     "data": {
      "text/plain": [
       "0.0    30179\n",
       "4.0    22963\n",
       "2.0    12380\n",
       "3.0     6427\n",
       "1.0     4983\n",
       "Name: ratings, dtype: int64"
      ]
     },
     "execution_count": 11,
     "metadata": {},
     "output_type": "execute_result"
    }
   ],
   "source": [
    "df.ratings.value_counts()"
   ]
  },
  {
   "cell_type": "code",
   "execution_count": 12,
   "metadata": {
    "ExecuteTime": {
     "end_time": "2020-07-18T18:18:38.656961Z",
     "start_time": "2020-07-18T18:18:38.644960Z"
    }
   },
   "outputs": [],
   "source": [
    "df.ratings = df.ratings.astype(int)"
   ]
  },
  {
   "cell_type": "code",
   "execution_count": 13,
   "metadata": {
    "ExecuteTime": {
     "end_time": "2020-07-18T18:18:38.671958Z",
     "start_time": "2020-07-18T18:18:38.658957Z"
    }
   },
   "outputs": [
    {
     "data": {
      "text/plain": [
       "0    30179\n",
       "4    22963\n",
       "2    12380\n",
       "3     6427\n",
       "1     4983\n",
       "Name: ratings, dtype: int64"
      ]
     },
     "execution_count": 13,
     "metadata": {},
     "output_type": "execute_result"
    }
   ],
   "source": [
    "df.ratings.value_counts()"
   ]
  },
  {
   "cell_type": "code",
   "execution_count": 14,
   "metadata": {
    "ExecuteTime": {
     "end_time": "2020-07-18T18:18:38.703971Z",
     "start_time": "2020-07-18T18:18:38.673962Z"
    }
   },
   "outputs": [
    {
     "data": {
      "text/plain": [
       "ratings              0\n",
       "processed_reviews    6\n",
       "dtype: int64"
      ]
     },
     "execution_count": 14,
     "metadata": {},
     "output_type": "execute_result"
    }
   ],
   "source": [
    "df.isnull().sum()"
   ]
  },
  {
   "cell_type": "code",
   "execution_count": 15,
   "metadata": {
    "ExecuteTime": {
     "end_time": "2020-07-18T18:18:38.735966Z",
     "start_time": "2020-07-18T18:18:38.705958Z"
    }
   },
   "outputs": [],
   "source": [
    "df.dropna(subset = ['processed_reviews'], inplace=True)"
   ]
  },
  {
   "cell_type": "code",
   "execution_count": 16,
   "metadata": {
    "ExecuteTime": {
     "end_time": "2020-07-18T18:18:38.766958Z",
     "start_time": "2020-07-18T18:18:38.737959Z"
    }
   },
   "outputs": [
    {
     "data": {
      "text/plain": [
       "ratings              0\n",
       "processed_reviews    0\n",
       "dtype: int64"
      ]
     },
     "execution_count": 16,
     "metadata": {},
     "output_type": "execute_result"
    }
   ],
   "source": [
    "df.isnull().sum()"
   ]
  },
  {
   "cell_type": "code",
   "execution_count": 17,
   "metadata": {
    "ExecuteTime": {
     "end_time": "2020-07-18T18:18:38.798970Z",
     "start_time": "2020-07-18T18:18:38.768966Z"
    }
   },
   "outputs": [],
   "source": [
    "X = df['processed_reviews'].astype(str)\n",
    "y = df['ratings']"
   ]
  },
  {
   "cell_type": "code",
   "execution_count": 18,
   "metadata": {
    "ExecuteTime": {
     "end_time": "2020-07-18T18:18:38.814958Z",
     "start_time": "2020-07-18T18:18:38.800956Z"
    }
   },
   "outputs": [],
   "source": [
    "MAX_VOCAB_SIZE = 20000\n",
    "tokenizer = Tokenizer(num_words=MAX_VOCAB_SIZE)"
   ]
  },
  {
   "cell_type": "code",
   "execution_count": 19,
   "metadata": {
    "ExecuteTime": {
     "end_time": "2020-07-18T18:18:50.945078Z",
     "start_time": "2020-07-18T18:18:38.816958Z"
    }
   },
   "outputs": [],
   "source": [
    "tokenizer.fit_on_texts(X)\n",
    "seq = tokenizer.texts_to_sequences(X)"
   ]
  },
  {
   "cell_type": "code",
   "execution_count": 20,
   "metadata": {
    "ExecuteTime": {
     "end_time": "2020-07-18T18:18:50.961089Z",
     "start_time": "2020-07-18T18:18:50.947080Z"
    }
   },
   "outputs": [
    {
     "name": "stdout",
     "output_type": "stream",
     "text": [
      "Unique tokens -  53951\n"
     ]
    }
   ],
   "source": [
    "word_to_int = tokenizer.word_index\n",
    "V = len(word_to_int)\n",
    "print('Unique tokens - ',V)"
   ]
  },
  {
   "cell_type": "code",
   "execution_count": 21,
   "metadata": {
    "ExecuteTime": {
     "end_time": "2020-07-18T18:18:52.008842Z",
     "start_time": "2020-07-18T18:18:50.964080Z"
    }
   },
   "outputs": [
    {
     "name": "stdout",
     "output_type": "stream",
     "text": [
      "Shape -  (76926, 921)\n"
     ]
    }
   ],
   "source": [
    "data = pad_sequences(seq)\n",
    "\n",
    "print('Shape - ',data.shape)\n",
    "\n",
    "T = data.shape[1]"
   ]
  },
  {
   "cell_type": "code",
   "execution_count": 23,
   "metadata": {
    "ExecuteTime": {
     "end_time": "2020-07-18T18:19:09.679429Z",
     "start_time": "2020-07-18T18:19:09.667417Z"
    },
    "hide_input": false
   },
   "outputs": [],
   "source": [
    "data = np.asarray(data)\n",
    "y = np.asarray(y)"
   ]
  },
  {
   "cell_type": "code",
   "execution_count": 24,
   "metadata": {
    "ExecuteTime": {
     "end_time": "2020-07-18T18:19:10.709415Z",
     "start_time": "2020-07-18T18:19:09.849429Z"
    }
   },
   "outputs": [],
   "source": [
    "#Embedding dimensionality\n",
    "D = 40\n",
    "# Hidden states\n",
    "M = 30\n",
    "\n",
    "i = Input(shape=(T,))\n",
    "x = Embedding(V+1, D)(i)\n",
    "x = SpatialDropout1D(0.7)(x)\n",
    "# x = LSTM(M, dropout=0.4, recurrent_dropout=0.4)(x)\n",
    "x = LSTM(M)(x)\n",
    "# x = Bidirectional(LSTM(M))(x)\n",
    "x = BatchNormalization()(x)\n",
    "# x = GlobalMaxPooling1D()(x)\n",
    "x = Dense(60, activation='relu')(x)\n",
    "x = Dropout(0.5)(x)\n",
    "x = Dense(5, activation='softmax')(x)\n",
    "\n",
    "model = Model(i, x)"
   ]
  },
  {
   "cell_type": "code",
   "execution_count": 27,
   "metadata": {
    "ExecuteTime": {
     "end_time": "2020-07-18T20:46:02.793246Z",
     "start_time": "2020-07-18T18:19:24.433823Z"
    },
    "scrolled": true
   },
   "outputs": [
    {
     "name": "stdout",
     "output_type": "stream",
     "text": [
      "Epoch 1/50\n",
      "2404/2404 [==============================] - 175s 73ms/step - loss: 1.2065 - accuracy: 0.5624\n",
      "Epoch 2/50\n",
      "2404/2404 [==============================] - 173s 72ms/step - loss: 1.0687 - accuracy: 0.6241\n",
      "Epoch 3/50\n",
      "2404/2404 [==============================] - 169s 70ms/step - loss: 1.0188 - accuracy: 0.6373\n",
      "Epoch 4/50\n",
      "2404/2404 [==============================] - 177s 74ms/step - loss: 0.9807 - accuracy: 0.6488\n",
      "Epoch 5/50\n",
      "2404/2404 [==============================] - 179s 75ms/step - loss: 0.9453 - accuracy: 0.6602\n",
      "Epoch 6/50\n",
      "2404/2404 [==============================] - 180s 75ms/step - loss: 0.9189 - accuracy: 0.6716\n",
      "Epoch 7/50\n",
      "2404/2404 [==============================] - 185s 77ms/step - loss: 0.8935 - accuracy: 0.6796\n",
      "Epoch 8/50\n",
      "2404/2404 [==============================] - 183s 76ms/step - loss: 0.8734 - accuracy: 0.6856\n",
      "Epoch 9/50\n",
      "2404/2404 [==============================] - 184s 76ms/step - loss: 0.8523 - accuracy: 0.6936\n",
      "Epoch 10/50\n",
      "2404/2404 [==============================] - 181s 75ms/step - loss: 0.8352 - accuracy: 0.7014s - loss: 0.8\n",
      "Epoch 11/50\n",
      "2404/2404 [==============================] - 174s 72ms/step - loss: 0.8141 - accuracy: 0.7072\n",
      "Epoch 12/50\n",
      "2404/2404 [==============================] - 180s 75ms/step - loss: 0.7987 - accuracy: 0.7123\n",
      "Epoch 13/50\n",
      "2404/2404 [==============================] - 179s 75ms/step - loss: 0.7816 - accuracy: 0.7207\n",
      "Epoch 14/50\n",
      "2404/2404 [==============================] - 174s 72ms/step - loss: 0.7692 - accuracy: 0.7272\n",
      "Epoch 15/50\n",
      "2404/2404 [==============================] - 171s 71ms/step - loss: 0.7528 - accuracy: 0.7316\n",
      "Epoch 16/50\n",
      "2404/2404 [==============================] - 179s 75ms/step - loss: 0.7382 - accuracy: 0.7364\n",
      "Epoch 17/50\n",
      "2404/2404 [==============================] - 181s 75ms/step - loss: 0.7285 - accuracy: 0.7410\n",
      "Epoch 18/50\n",
      "2404/2404 [==============================] - 180s 75ms/step - loss: 0.7209 - accuracy: 0.7435\n",
      "Epoch 19/50\n",
      "2404/2404 [==============================] - 182s 76ms/step - loss: 0.7092 - accuracy: 0.7474\n",
      "Epoch 20/50\n",
      "2404/2404 [==============================] - 191s 79ms/step - loss: 0.6947 - accuracy: 0.7539\n",
      "Epoch 21/50\n",
      "2404/2404 [==============================] - 193s 80ms/step - loss: 0.6856 - accuracy: 0.7593\n",
      "Epoch 22/50\n",
      "2404/2404 [==============================] - 184s 77ms/step - loss: 0.6746 - accuracy: 0.7608\n",
      "Epoch 23/50\n",
      "2404/2404 [==============================] - 178s 74ms/step - loss: 0.6696 - accuracy: 0.7638\n",
      "Epoch 24/50\n",
      "2404/2404 [==============================] - 177s 74ms/step - loss: 0.6601 - accuracy: 0.7660\n",
      "Epoch 25/50\n",
      "2404/2404 [==============================] - 184s 76ms/step - loss: 0.6534 - accuracy: 0.7692\n",
      "Epoch 26/50\n",
      "2404/2404 [==============================] - 179s 74ms/step - loss: 0.6464 - accuracy: 0.7730\n",
      "Epoch 27/50\n",
      "2404/2404 [==============================] - 175s 73ms/step - loss: 0.6359 - accuracy: 0.7780\n",
      "Epoch 28/50\n",
      "2404/2404 [==============================] - 177s 73ms/step - loss: 0.6282 - accuracy: 0.7793\n",
      "Epoch 29/50\n",
      "2404/2404 [==============================] - 176s 73ms/step - loss: 0.6210 - accuracy: 0.7819\n",
      "Epoch 30/50\n",
      "2404/2404 [==============================] - 181s 75ms/step - loss: 0.6188 - accuracy: 0.7842\n",
      "Epoch 31/50\n",
      "2404/2404 [==============================] - 178s 74ms/step - loss: 0.6159 - accuracy: 0.7851\n",
      "Epoch 32/50\n",
      "2404/2404 [==============================] - 168s 70ms/step - loss: 0.6028 - accuracy: 0.7899\n",
      "Epoch 33/50\n",
      "2404/2404 [==============================] - 168s 70ms/step - loss: 0.5991 - accuracy: 0.7913\n",
      "Epoch 34/50\n",
      "2404/2404 [==============================] - 167s 69ms/step - loss: 0.5953 - accuracy: 0.7932\n",
      "Epoch 35/50\n",
      "2404/2404 [==============================] - 171s 71ms/step - loss: 0.5881 - accuracy: 0.7946\n",
      "Epoch 36/50\n",
      "2404/2404 [==============================] - 177s 73ms/step - loss: 0.5874 - accuracy: 0.7969\n",
      "Epoch 37/50\n",
      "2404/2404 [==============================] - 173s 72ms/step - loss: 0.5821 - accuracy: 0.7978\n",
      "Epoch 38/50\n",
      "2404/2404 [==============================] - 169s 70ms/step - loss: 0.5771 - accuracy: 0.8003\n",
      "Epoch 39/50\n",
      "2404/2404 [==============================] - 171s 71ms/step - loss: 0.5768 - accuracy: 0.7994\n",
      "Epoch 40/50\n",
      "2404/2404 [==============================] - 167s 69ms/step - loss: 0.5696 - accuracy: 0.8028\n",
      "Epoch 41/50\n",
      "2404/2404 [==============================] - 167s 69ms/step - loss: 0.5618 - accuracy: 0.8057\n",
      "Epoch 42/50\n",
      "2404/2404 [==============================] - 166s 69ms/step - loss: 0.5617 - accuracy: 0.8069\n",
      "Epoch 43/50\n",
      "2404/2404 [==============================] - 169s 70ms/step - loss: 0.5577 - accuracy: 0.8074\n",
      "Epoch 44/50\n",
      "2404/2404 [==============================] - 168s 70ms/step - loss: 0.5550 - accuracy: 0.8058\n",
      "Epoch 45/50\n",
      "2404/2404 [==============================] - 168s 70ms/step - loss: 0.5496 - accuracy: 0.8094\n",
      "Epoch 46/50\n",
      "2404/2404 [==============================] - 169s 70ms/step - loss: 0.5437 - accuracy: 0.8099\n",
      "Epoch 47/50\n",
      "2404/2404 [==============================] - 169s 70ms/step - loss: 0.5413 - accuracy: 0.8127\n",
      "Epoch 48/50\n",
      "2404/2404 [==============================] - 172s 72ms/step - loss: 0.5402 - accuracy: 0.8128\n",
      "Epoch 49/50\n",
      "2404/2404 [==============================] - 176s 73ms/step - loss: 0.5367 - accuracy: 0.8155\n",
      "Epoch 50/50\n",
      "2404/2404 [==============================] - 176s 73ms/step - loss: 0.5324 - accuracy: 0.8147\n"
     ]
    }
   ],
   "source": [
    "model.compile(optimizer=Adam(learning_rate=0.001),\n",
    "              loss='sparse_categorical_crossentropy', metrics=['accuracy'])\n",
    "\n",
    "c = model.fit(data, y, epochs=50)"
   ]
  },
  {
   "cell_type": "code",
   "execution_count": 28,
   "metadata": {
    "ExecuteTime": {
     "end_time": "2020-07-18T20:46:12.437449Z",
     "start_time": "2020-07-18T20:46:12.392436Z"
    }
   },
   "outputs": [
    {
     "name": "stdout",
     "output_type": "stream",
     "text": [
      "Model: \"model\"\n",
      "_________________________________________________________________\n",
      "Layer (type)                 Output Shape              Param #   \n",
      "=================================================================\n",
      "input_1 (InputLayer)         [(None, 921)]             0         \n",
      "_________________________________________________________________\n",
      "embedding (Embedding)        (None, 921, 40)           2158080   \n",
      "_________________________________________________________________\n",
      "spatial_dropout1d (SpatialDr (None, 921, 40)           0         \n",
      "_________________________________________________________________\n",
      "lstm (LSTM)                  (None, 30)                8520      \n",
      "_________________________________________________________________\n",
      "batch_normalization (BatchNo (None, 30)                120       \n",
      "_________________________________________________________________\n",
      "dense (Dense)                (None, 60)                1860      \n",
      "_________________________________________________________________\n",
      "dropout (Dropout)            (None, 60)                0         \n",
      "_________________________________________________________________\n",
      "dense_1 (Dense)              (None, 5)                 305       \n",
      "=================================================================\n",
      "Total params: 2,168,885\n",
      "Trainable params: 2,168,825\n",
      "Non-trainable params: 60\n",
      "_________________________________________________________________\n"
     ]
    }
   ],
   "source": [
    "model.summary()"
   ]
  },
  {
   "cell_type": "code",
   "execution_count": 37,
   "metadata": {
    "ExecuteTime": {
     "end_time": "2020-07-18T20:47:58.658115Z",
     "start_time": "2020-07-18T20:47:58.645115Z"
    }
   },
   "outputs": [],
   "source": [
    "def plot(c, param):\n",
    "    plt.plot(c.history[param], label=param)\n",
    "    plt.legend()"
   ]
  },
  {
   "cell_type": "code",
   "execution_count": 38,
   "metadata": {
    "ExecuteTime": {
     "end_time": "2020-07-18T20:48:07.112546Z",
     "start_time": "2020-07-18T20:48:06.955543Z"
    }
   },
   "outputs": [
    {
     "data": {
      "image/png": "[encoded data removed]",
      "text/plain": [
       "<Figure size 432x288 with 1 Axes>"
      ]
     },
     "metadata": {
      "needs_background": "light"
     },
     "output_type": "display_data"
    }
   ],
   "source": [
    "plot(c, 'loss')"
   ]
  },
  {
   "cell_type": "code",
   "execution_count": 39,
   "metadata": {
    "ExecuteTime": {
     "end_time": "2020-07-18T20:48:15.504370Z",
     "start_time": "2020-07-18T20:48:15.346356Z"
    },
    "scrolled": true
   },
   "outputs": [
    {
     "data": {
      "image/png": "[encoded data removed]",
      "text/plain": [
       "<Figure size 432x288 with 1 Axes>"
      ]
     },
     "metadata": {
      "needs_background": "light"
     },
     "output_type": "display_data"
    }
   ],
   "source": [
    "plot(c, 'accuracy')"
   ]
  },
  {
   "cell_type": "code",
   "execution_count": 32,
   "metadata": {
    "ExecuteTime": {
     "end_time": "2020-07-18T20:46:53.846674Z",
     "start_time": "2020-07-18T20:46:53.599671Z"
    }
   },
   "outputs": [],
   "source": [
    "model.save('model_LSTMFullData.h5')"
   ]
  },
  {
   "cell_type": "code",
   "execution_count": 33,
   "metadata": {
    "ExecuteTime": {
     "end_time": "2020-07-18T20:47:02.519840Z",
     "start_time": "2020-07-18T20:47:02.378841Z"
    }
   },
   "outputs": [],
   "source": [
    "import pickle\n",
    "pickle.dump(tokenizer, open('tokenizer.pkl', 'wb'))"
   ]
  },
  {
   "cell_type": "code",
   "execution_count": 34,
   "metadata": {
    "ExecuteTime": {
     "end_time": "2020-07-18T20:47:11.002258Z",
     "start_time": "2020-07-18T20:47:10.988262Z"
    }
   },
   "outputs": [],
   "source": [
    "def release_gpu_memory():\n",
    "    device = cuda.get_current_device()\n",
    "    device.reset()"
   ]
  },
  {
   "cell_type": "code",
   "execution_count": 35,
   "metadata": {
    "ExecuteTime": {
     "end_time": "2020-07-18T20:47:25.980122Z",
     "start_time": "2020-07-18T20:47:19.440458Z"
    }
   },
   "outputs": [],
   "source": [
    "release_gpu_memory()"
   ]
  },
  {
   "cell_type": "code",
   "execution_count": null,
   "metadata": {},
   "outputs": [],
   "source": []
  }
 ],
 "metadata": {
  "kernelspec": {
   "display_name": "Python 3",
   "language": "python",
   "name": "python3"
  },
  "language_info": {
   "codemirror_mode": {
    "name": "ipython",
    "version": 3
   },
   "file_extension": ".py",
   "mimetype": "text/x-python",
   "name": "python",
   "nbconvert_exporter": "python",
   "pygments_lexer": "ipython3",
   "version": "3.6.10"
  },
  "toc": {
   "base_numbering": 1,
   "nav_menu": {},
   "number_sections": true,
   "sideBar": true,
   "skip_h1_title": false,
   "title_cell": "Table of Contents",
   "title_sidebar": "Contents",
   "toc_cell": false,
   "toc_position": {},
   "toc_section_display": true,
   "toc_window_display": false
  },
  "varInspector": {
   "cols": {
    "lenName": 16,
    "lenType": 16,
    "lenVar": 40
   },
   "kernels_config": {
    "python": {
     "delete_cmd_postfix": "",
     "delete_cmd_prefix": "del ",
     "library": "var_list.py",
     "varRefreshCmd": "print(var_dic_list())"
    },
    "r": {
     "delete_cmd_postfix": ") ",
     "delete_cmd_prefix": "rm(",
     "library": "var_list.r",
     "varRefreshCmd": "cat(var_dic_list()) "
    }
   },
   "types_to_exclude": [
    "module",
    "function",
    "builtin_function_or_method",
    "instance",
    "_Feature"
   ],
   "window_display": false
  }
 },
 "nbformat": 4,
 "nbformat_minor": 4
}
